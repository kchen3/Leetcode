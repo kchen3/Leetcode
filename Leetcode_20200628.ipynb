{
 "cells": [
  {
   "cell_type": "markdown",
   "metadata": {},
   "source": [
    " # Leetcode\n",
    " * Bullet point"
   ]
  },
  {
   "cell_type": "code",
   "execution_count": 15,
   "metadata": {},
   "outputs": [
    {
     "name": "stdout",
     "output_type": "stream",
     "text": [
      "<class 'list'>\n",
      "2209704111240\n",
      "<class 'list'>\n",
      "2209704111240\n"
     ]
    },
    {
     "data": {
      "text/plain": [
       "[2, 1]"
      ]
     },
     "execution_count": 15,
     "metadata": {},
     "output_type": "execute_result"
    }
   ],
   "source": [
    "# Leetcode #189\n",
    "class Solution:\n",
    "    def rotate(self, nums, k):\n",
    "        print(type(nums))\n",
    "        print(id(nums))\n",
    "        \n",
    "        if len(nums) >= k:\n",
    "            nums[:] = nums[-k:]+nums[:-k]\n",
    "            #nums = nums[-k:]+nums[:-k]\n",
    "        else:\n",
    "            #print(k%len(nums))\n",
    "            k = k%len(nums)\n",
    "            nums[:] = nums[-k:]+nums[:-k]\n",
    "            \n",
    "        print(type(nums))\n",
    "        print(id(nums))\n",
    "        \n",
    "        return nums\n",
    "        \n",
    "\n",
    "a=Solution()\n",
    "#a.rotate(nums = [1,2,3,4,5,6,7], k = 3)\n",
    "#a.rotate(nums = [-1,-100,3,99], k = 2)\n",
    "a.rotate(nums = [1,2], k=3)\n",
    "\n"
   ]
  },
  {
   "cell_type": "code",
   "execution_count": 19,
   "metadata": {},
   "outputs": [
    {
     "name": "stdout",
     "output_type": "stream",
     "text": [
      "deque([-1, -100, 3, 99])\n"
     ]
    },
    {
     "data": {
      "text/plain": [
       "[3, 99, -1, -100]"
      ]
     },
     "execution_count": 19,
     "metadata": {},
     "output_type": "execute_result"
    }
   ],
   "source": [
    "# Leetcode #189\n",
    "from collections import deque\n",
    "\n",
    "class Solution:\n",
    "    def rotate(self, nums, k):\n",
    "        if k==0:\n",
    "            return \n",
    "        n=len(nums)\n",
    "        y=n-k\n",
    "        x=deque(nums)\n",
    "        print(x)\n",
    "        while(k):\n",
    "            k-=1\n",
    "            y=x.pop()\n",
    "            x.appendleft(y)\n",
    "        x=list(x)\n",
    "        for i in range(n):\n",
    "            nums[i]=x[i]\n",
    "            \n",
    "        return nums\n",
    "            \n",
    "\n",
    "a=Solution()\n",
    "#a.rotate(nums = [1,2,3,4,5,6,7], k = 3)\n",
    "a.rotate(nums = [-1,-100,3,99], k = 2)\n",
    "#a.rotate(nums = [1,2], k=3)"
   ]
  },
  {
   "cell_type": "code",
   "execution_count": 28,
   "metadata": {},
   "outputs": [
    {
     "data": {
      "text/plain": [
       "1"
      ]
     },
     "execution_count": 28,
     "metadata": {},
     "output_type": "execute_result"
    }
   ],
   "source": [
    "# Leetcode #41\n",
    "\n",
    "class Solution:\n",
    "    def firstMissingPositive(self, nums):\n",
    "        if len(nums)<1 or max(nums)<1:\n",
    "            return 1\n",
    "        else:\n",
    "            for i in range(1,max(nums)):\n",
    "                if i not in nums:\n",
    "                    return i\n",
    "            return( max(nums)+1 )\n",
    "        \n",
    "a=Solution()\n",
    "#a.firstMissingPositive(nums=[1,2,0])\n",
    "#a.firstMissingPositive([3,4,-1,1])\n",
    "#a.firstMissingPositive([7,8,9,11,12])\n",
    "a.firstMissingPositive([])\n"
   ]
  },
  {
   "cell_type": "code",
   "execution_count": 42,
   "metadata": {},
   "outputs": [
    {
     "name": "stdout",
     "output_type": "stream",
     "text": [
      "[3, 4, 0, 1, 0]\n",
      "[13, 9, 0, 6, 5]\n",
      "5\n"
     ]
    },
    {
     "data": {
      "text/plain": [
       "2"
      ]
     },
     "execution_count": 42,
     "metadata": {},
     "output_type": "execute_result"
    }
   ],
   "source": [
    "# Leetcode #41\n",
    "\n",
    "class Solution:\n",
    "    def firstMissingPositive(self, nums):\n",
    "        # O(n) Time, O(n) Memory\n",
    "        \n",
    "        nums.append(0)\n",
    "        n = len(nums)\n",
    "        for i in range(len(nums)): \n",
    "            if nums[i] < 0 or nums[i] >= n:\n",
    "                nums[i]=0\n",
    "\n",
    "        print(nums)\n",
    "                \n",
    "        for i in range(len(nums)): \n",
    "            nums[nums[i] % n] += n\n",
    "        print(nums)\n",
    "        print(n)\n",
    "            \n",
    "        for i in range(1,len(nums)):\n",
    "            if nums[i]//n==0:\n",
    "                return i\n",
    "        return n\n",
    "    \n",
    "a=Solution()\n",
    "#a.firstMissingPositive(nums=[1,2,0])\n",
    "a.firstMissingPositive([3,4,-1,1])\n",
    "#a.firstMissingPositive([7,8,9,11,12])\n",
    "#a.firstMissingPositive([])\n",
    "    "
   ]
  },
  {
   "cell_type": "code",
   "execution_count": 65,
   "metadata": {},
   "outputs": [
    {
     "name": "stdout",
     "output_type": "stream",
     "text": [
      "['8']\n",
      "['1', '8', '0', '7']\n",
      "['1', '0', '7']\n"
     ]
    },
    {
     "data": {
      "text/plain": [
       "'1A3B'"
      ]
     },
     "execution_count": 65,
     "metadata": {},
     "output_type": "execute_result"
    }
   ],
   "source": [
    "# Leetcode #299\n",
    "\n",
    "class Solution:\n",
    "    def getHint(self, secret, guess):\n",
    "        A = 0\n",
    "        A_list = []\n",
    "        B = 0\n",
    "        for i in range(len(secret)):\n",
    "            if (int(secret[i]) - int(guess[i])) ==0:\n",
    "                A +=1\n",
    "                A_list.append(secret[i])\n",
    "            \n",
    "        print(A_list)\n",
    "        secret_list = list(secret)\n",
    "        guess_list = list(guess)\n",
    "        print(secret_list)\n",
    "        for a in A_list:\n",
    "            secret_list.remove(a)\n",
    "            guess_list.remove(a)\n",
    "            \n",
    "        print(secret_list)\n",
    "        for ele in guess_list:\n",
    "            if ele in secret_list:\n",
    "                secret_list.remove(ele)\n",
    "                B += 1\n",
    "        return(str(A)+'A'+str(B)+'B')\n",
    "        \n",
    "        \n",
    "        \n",
    "a=Solution()\n",
    "a.getHint(secret = \"1807\", guess = \"7810\")\n",
    "#a.getHint(secret = \"1123\", guess = \"0111\")\n",
    "#a.getHint(\"1\", \"0\")\n",
    "#a.getHint(\"11\", \"10\")\n"
   ]
  },
  {
   "cell_type": "code",
   "execution_count": 69,
   "metadata": {},
   "outputs": [
    {
     "name": "stdout",
     "output_type": "stream",
     "text": [
      "Counter({'1': 2, '2': 1, '3': 1})\n",
      "0 0\n",
      "1 1\n",
      "2 1\n",
      "3 1\n"
     ]
    },
    {
     "data": {
      "text/plain": [
       "'1A1B'"
      ]
     },
     "execution_count": 69,
     "metadata": {},
     "output_type": "execute_result"
    }
   ],
   "source": [
    "from collections import Counter\n",
    "\n",
    "class Solution:\n",
    "    def getHint(self, secret, guess):\n",
    "        bull_cnt, cow_cnt = 0, 0\n",
    "        secret_digit_freqs, guess_digit_freqs = Counter(secret), Counter(guess)\n",
    "        print(secret_digit_freqs)\n",
    "        \n",
    "        for i, digit in enumerate(guess):\n",
    "            print(i, digit)\n",
    "            if digit == secret[i]:\n",
    "                bull_cnt += 1\n",
    "                secret_digit_freqs[digit] -= 1\n",
    "                guess_digit_freqs[digit] -= 1\n",
    "\n",
    "        for i, digit in enumerate(guess):\n",
    "            if digit in secret_digit_freqs and secret_digit_freqs[digit] > 0 and guess_digit_freqs[digit] > 0:\n",
    "                cow_cnt += 1\n",
    "                secret_digit_freqs[digit] -= 1\n",
    "                guess_digit_freqs[digit] -= 1\n",
    "        \n",
    "        return str(bull_cnt)+'A'+str(cow_cnt)+'B'\n",
    "    \n",
    "    \n",
    "a=Solution()\n",
    "#a.getHint(secret = \"1807\", guess = \"7810\")\n",
    "a.getHint(secret = \"1123\", guess = \"0111\")\n",
    "#a.getHint(\"1\", \"0\")\n",
    "#a.getHint(\"11\", \"10\")\n",
    "    "
   ]
  },
  {
   "cell_type": "code",
   "execution_count": null,
   "metadata": {},
   "outputs": [],
   "source": []
  }
 ],
 "metadata": {
  "kernelspec": {
   "display_name": "Python 3",
   "language": "python",
   "name": "python3"
  },
  "language_info": {
   "codemirror_mode": {
    "name": "ipython",
    "version": 3
   },
   "file_extension": ".py",
   "mimetype": "text/x-python",
   "name": "python",
   "nbconvert_exporter": "python",
   "pygments_lexer": "ipython3",
   "version": "3.7.7"
  }
 },
 "nbformat": 4,
 "nbformat_minor": 4
}
