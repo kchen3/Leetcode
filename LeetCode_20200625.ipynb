{
 "cells": [
  {
   "cell_type": "code",
   "execution_count": 3,
   "metadata": {},
   "outputs": [
    {
     "data": {
      "text/plain": [
       "5"
      ]
     },
     "execution_count": 3,
     "metadata": {},
     "output_type": "execute_result"
    }
   ],
   "source": [
    "### Leetcode #27\n",
    "\n",
    "class Solution:\n",
    "    def removeElement(self, nums, val):\n",
    "        while val in nums:\n",
    "            idx = nums.index(val)\n",
    "            nums.pop(idx)\n",
    "        \n",
    "        return(len(nums))\n",
    "    \n",
    "a=Solution()\n",
    "#a.removeElement(nums = [3,2,2,3], val = 3)\n",
    "a.removeElement(nums = [0,1,2,2,3,0,4,2], val = 2)\n"
   ]
  },
  {
   "cell_type": "code",
   "execution_count": 3,
   "metadata": {},
   "outputs": [
    {
     "name": "stdout",
     "output_type": "stream",
     "text": [
      "7\n"
     ]
    },
    {
     "data": {
      "text/plain": [
       "5"
      ]
     },
     "execution_count": 3,
     "metadata": {},
     "output_type": "execute_result"
    }
   ],
   "source": [
    "class Solution:\n",
    "    \"\"\"\n",
    "    @param A: A list of integers\n",
    "    @param elem: An integer\n",
    "    @return: The new length after remove\n",
    "    \"\"\"\n",
    "    def removeElement(self, A, elem):\n",
    "        # write your code here\n",
    "        j = len(A)-1\n",
    "        print(j)\n",
    "        for i in range(len(A) - 1, -1, -1):\n",
    "            if A[i] == elem:\n",
    "                A[i], A[j] = A[j], A[i]\n",
    "                j -= 1\n",
    "        return j+1\n",
    "    \n",
    "a=Solution()\n",
    "#a.removeElement(A = [3,2,2,3], elem = 3)\n",
    "a.removeElement(A = [0,1,2,2,3,0,4,2], elem = 2)\n",
    "    "
   ]
  },
  {
   "cell_type": "code",
   "execution_count": 4,
   "metadata": {},
   "outputs": [
    {
     "name": "stdout",
     "output_type": "stream",
     "text": [
      "7\n",
      "6\n",
      "5\n",
      "4\n",
      "3\n",
      "2\n",
      "1\n",
      "0\n"
     ]
    }
   ],
   "source": [
    "for i in range(8 - 1, -1, -1):\n",
    "    print(i)"
   ]
  },
  {
   "cell_type": "code",
   "execution_count": 7,
   "metadata": {},
   "outputs": [
    {
     "name": "stdout",
     "output_type": "stream",
     "text": [
      "{1, 2}\n"
     ]
    },
    {
     "data": {
      "text/plain": [
       "2"
      ]
     },
     "execution_count": 7,
     "metadata": {},
     "output_type": "execute_result"
    }
   ],
   "source": [
    "### Leetcode #26\n",
    "class Solution:\n",
    "    def removeDuplicates(self, nums):\n",
    "        print(set(nums))\n",
    "        return(len(set(nums)))\n",
    "        \n",
    "a=Solution()\n",
    "a.removeDuplicates(nums = [1,1,2])\n",
    "#a.removeDuplicates(nums = [0,0,1,1,1,2,2,3,3,4])"
   ]
  },
  {
   "cell_type": "code",
   "execution_count": 42,
   "metadata": {},
   "outputs": [
    {
     "name": "stdout",
     "output_type": "stream",
     "text": [
      "[-1, 0, 3]\n",
      "0\n",
      "1\n",
      "[-1, 0, 0, 0, 0, 3, 3]\n",
      "1\n",
      "5\n",
      "[-1, 0, 3, 3]\n",
      "2\n",
      "[-1, 0, 3]\n"
     ]
    },
    {
     "data": {
      "text/plain": [
       "3"
      ]
     },
     "execution_count": 42,
     "metadata": {},
     "output_type": "execute_result"
    }
   ],
   "source": [
    "### Leetcode #26 Change by reference!\n",
    "class Solution:\n",
    "    def removeDuplicates(self, nums):\n",
    "        S_set = sorted(list(set(nums)))\n",
    "        print(S_set)\n",
    "        for i in range(len(S_set)):\n",
    "            if i<len(S_set)-1:\n",
    "                idx1 = nums.index(S_set[i])\n",
    "                idx2 = nums.index(S_set[i+1])\n",
    "                print(idx1)\n",
    "                print(idx2)\n",
    "                del nums[idx1+1:idx2]\n",
    "                print(nums)\n",
    "            else:\n",
    "                idx1 = nums.index(S_set[i])\n",
    "                print(idx1)\n",
    "                \n",
    "                del nums[idx1+1:]\n",
    "        \n",
    "        if (len(S_set)-1) < 1:\n",
    "            del nums[1:]\n",
    "\n",
    "        print(nums)\n",
    "        return(len(nums))\n",
    "        \n",
    "a=Solution()\n",
    "#a.removeDuplicates(nums = [1,1,2])\n",
    "#a.removeDuplicates(nums = [0,0,1,1,1,2,2,3,3,4])\n",
    "#a.removeDuplicates([1,1])\n",
    "#a.removeDuplicates([1,2,2])\n",
    "#a.removeDuplicates([1,1,2,2])\n",
    "a.removeDuplicates([-1,0,0,0,0,3,3])"
   ]
  },
  {
   "cell_type": "code",
   "execution_count": 13,
   "metadata": {},
   "outputs": [
    {
     "ename": "SyntaxError",
     "evalue": "invalid syntax (<ipython-input-13-ef706abf7e23>, line 2)",
     "output_type": "error",
     "traceback": [
      "\u001b[1;36m  File \u001b[1;32m\"<ipython-input-13-ef706abf7e23>\"\u001b[1;36m, line \u001b[1;32m2\u001b[0m\n\u001b[1;33m    a{1}\u001b[0m\n\u001b[1;37m     ^\u001b[0m\n\u001b[1;31mSyntaxError\u001b[0m\u001b[1;31m:\u001b[0m invalid syntax\n"
     ]
    }
   ],
   "source": [
    "a=set([1,2,3])\n",
    "a{1}"
   ]
  },
  {
   "cell_type": "code",
   "execution_count": 10,
   "metadata": {},
   "outputs": [
    {
     "name": "stdout",
     "output_type": "stream",
     "text": [
      "Counter({1: 4, 0: 2, 3: 2, 2: 1})\n",
      "<class 'collections.Counter'>\n",
      "<itertools.chain object at 0x00000230F2490EC8>\n",
      "[(1, 4)]\n",
      "dict_values([2, 4, 1, 2])\n"
     ]
    }
   ],
   "source": [
    "### Leetcode #80 Change by reference!\n",
    "import collections\n",
    "class Solution:\n",
    "    def removeDuplicates(self, nums):\n",
    "        count = collections.Counter(nums)\n",
    "        print(count)\n",
    "        print(type(count))\n",
    "        print(count.elements())\n",
    "        print(count.most_common(1))\n",
    "        print(count.values())\n",
    "        \n",
    "        \n",
    "a=Solution()\n",
    "a.removeDuplicates([0,0,1,1,1,1,2,3,3])\n",
    "\n"
   ]
  },
  {
   "cell_type": "code",
   "execution_count": 40,
   "metadata": {},
   "outputs": [
    {
     "name": "stdout",
     "output_type": "stream",
     "text": [
      "{1: 3, 2: 2, 3: 1}\n",
      "[(1, 1)]\n",
      "1\n",
      "1\n",
      "1\n",
      "1\n",
      "[1, 1, 2, 2, 3]\n"
     ]
    },
    {
     "data": {
      "text/plain": [
       "5"
      ]
     },
     "execution_count": 40,
     "metadata": {},
     "output_type": "execute_result"
    }
   ],
   "source": [
    "### Leetcode #80 Change by reference!\n",
    "class Solution:\n",
    "    def removeDuplicates(self, nums):\n",
    "        D_nums = dict()\n",
    "        for i in range(len(nums)):\n",
    "            if D_nums.get(nums[i], 0) == 0:\n",
    "                D_nums[nums[i]] = 1\n",
    "            else:\n",
    "                D_nums[nums[i]] += 1\n",
    "        print(D_nums)\n",
    "        ele = [(k,v-2) for k,v in D_nums.items() if v>2]\n",
    "        print(ele)\n",
    "        print(len(ele))\n",
    "        print(ele[0][1])\n",
    "        for i in range(len(ele)):\n",
    "            print(ele[i][0])\n",
    "            print(ele[i][1])\n",
    "\n",
    "            for j in range(ele[i][1]):\n",
    "                nums.remove(ele[i][0])\n",
    "        print(nums)\n",
    "        return(len(nums))\n",
    "        \n",
    "        \n",
    "a=Solution()\n",
    "a.removeDuplicates([1,1,1,2,2,3])\n",
    "#a.removeDuplicates([0,0,1,1,1,1,2,3,3])\n"
   ]
  }
 ],
 "metadata": {
  "kernelspec": {
   "display_name": "Python 3",
   "language": "python",
   "name": "python3"
  },
  "language_info": {
   "codemirror_mode": {
    "name": "ipython",
    "version": 3
   },
   "file_extension": ".py",
   "mimetype": "text/x-python",
   "name": "python",
   "nbconvert_exporter": "python",
   "pygments_lexer": "ipython3",
   "version": "3.7.7"
  }
 },
 "nbformat": 4,
 "nbformat_minor": 4
}
